{
  "nbformat": 4,
  "nbformat_minor": 0,
  "metadata": {
    "colab": {
      "name": "term_statistics.ipynb",
      "provenance": [],
      "collapsed_sections": []
    },
    "kernelspec": {
      "name": "python3",
      "display_name": "Python 3"
    },
    "language_info": {
      "name": "python"
    }
  },
  "cells": [
    {
      "cell_type": "markdown",
      "metadata": {
        "id": "view-in-github"
      },
      "source": [
        "<a href=\"https://colab.research.google.com/github/dasmiq/cs6200-hw1/blob/main/term_statistics.ipynb\" target=\"_parent\"><img src=\"https://colab.research.google.com/assets/colab-badge.svg\" alt=\"Open In Colab\"/></a>"
      ]
    },
    {
      "cell_type": "markdown",
      "metadata": {
        "id": "2yYCQrU0J5C5"
      },
      "source": [
        "# Working with Terms and Documents\n",
        "\n",
        "This first homework assignment starts off with term statistics computations and graphing. In the final section (for CS6200 students), you collect new documents to experiment with.\n",
        "\n",
        "Read through this Jupyter notebook and fill in the parts marked with `TODO`."
      ]
    },
    {
      "cell_type": "markdown",
      "metadata": {
        "id": "tA4bCPS1MmAx"
      },
      "source": [
        "## Sample Data\n",
        "\n",
        "Start by looking at some sample data. We donwload the counts of terms in documents for the first one million tokens of a newswire collection."
      ]
    },
    {
      "cell_type": "code",
      "metadata": {
        "id": "36Y4lKWcxSQd"
      },
      "source": [
        ""
      ],
      "execution_count": null,
      "outputs": []
    },
    {
      "cell_type": "code",
      "metadata": {
        "colab": {
          "base_uri": "https://localhost:8080/"
        },
        "id": "W-IMINS4IFUg",
        "outputId": "921cc026-b6b1-45b6-e2d9-8b9cd256b8c7"
      },
      "source": [
        "!wget -O ap201001.json.gz https://github.com/dasmiq/cs6200-hw1/blob/main/ap201001.json.gz?raw=true\n",
        "!gunzip ap201001.json.gz"
      ],
      "execution_count": null,
      "outputs": [
        {
          "output_type": "stream",
          "name": "stdout",
          "text": [
            "--2021-10-04 15:41:07--  https://github.com/dasmiq/cs6200-hw1/blob/main/ap201001.json.gz?raw=true\n",
            "Resolving github.com (github.com)... 140.82.112.3\n",
            "Connecting to github.com (github.com)|140.82.112.3|:443... connected.\n",
            "HTTP request sent, awaiting response... 302 Found\n",
            "Location: https://github.com/dasmiq/cs6200-hw1/raw/main/ap201001.json.gz [following]\n",
            "--2021-10-04 15:41:07--  https://github.com/dasmiq/cs6200-hw1/raw/main/ap201001.json.gz\n",
            "Reusing existing connection to github.com:443.\n",
            "HTTP request sent, awaiting response... 302 Found\n",
            "Location: https://raw.githubusercontent.com/dasmiq/cs6200-hw1/main/ap201001.json.gz [following]\n",
            "--2021-10-04 15:41:08--  https://raw.githubusercontent.com/dasmiq/cs6200-hw1/main/ap201001.json.gz\n",
            "Resolving raw.githubusercontent.com (raw.githubusercontent.com)... 185.199.108.133, 185.199.109.133, 185.199.110.133, ...\n",
            "Connecting to raw.githubusercontent.com (raw.githubusercontent.com)|185.199.108.133|:443... connected.\n",
            "HTTP request sent, awaiting response... 200 OK\n",
            "Length: 2854711 (2.7M) [application/octet-stream]\n",
            "Saving to: ‘ap201001.json.gz’\n",
            "\n",
            "ap201001.json.gz    100%[===================>]   2.72M  --.-KB/s    in 0.06s   \n",
            "\n",
            "2021-10-04 15:41:08 (46.9 MB/s) - ‘ap201001.json.gz’ saved [2854711/2854711]\n",
            "\n"
          ]
        }
      ]
    },
    {
      "cell_type": "markdown",
      "metadata": {
        "id": "_SEFjGZvM4lY"
      },
      "source": [
        "We convert this file with one JSON record on each line to a list of dictionaries."
      ]
    },
    {
      "cell_type": "code",
      "metadata": {
        "id": "6CrLD5SOIMz1"
      },
      "source": [
        "import json\n",
        "rawfile = open('ap201001.json')\n",
        "terms = [json.loads(line) for line in rawfile]"
      ],
      "execution_count": null,
      "outputs": []
    },
    {
      "cell_type": "markdown",
      "metadata": {
        "id": "Rg4P9XJJM_lZ"
      },
      "source": [
        "Here are the first ten records, showing the count of each term for each document and field. In this data, field can be `body` or `title`."
      ]
    },
    {
      "cell_type": "code",
      "metadata": {
        "id": "g8GdOuyzI0wm",
        "colab": {
          "base_uri": "https://localhost:8080/"
        },
        "outputId": "5437a1a1-d87e-4b69-83a4-d1cc477d7662"
      },
      "source": [
        "terms[1:10]\n"
      ],
      "execution_count": null,
      "outputs": [
        {
          "output_type": "execute_result",
          "data": {
            "text/plain": [
              "[{'count': 1, 'field': 'body', 'id': 'APW_ENG_20100101.0001', 'term': 'about'},\n",
              " {'count': 1, 'field': 'body', 'id': 'APW_ENG_20100101.0001', 'term': 'abuse'},\n",
              " {'count': 1,\n",
              "  'field': 'body',\n",
              "  'id': 'APW_ENG_20100101.0001',\n",
              "  'term': 'academy'},\n",
              " {'count': 2,\n",
              "  'field': 'body',\n",
              "  'id': 'APW_ENG_20100101.0001',\n",
              "  'term': 'accused'},\n",
              " {'count': 1,\n",
              "  'field': 'body',\n",
              "  'id': 'APW_ENG_20100101.0001',\n",
              "  'term': 'actress'},\n",
              " {'count': 1, 'field': 'body', 'id': 'APW_ENG_20100101.0001', 'term': 'ad'},\n",
              " {'count': 1, 'field': 'body', 'id': 'APW_ENG_20100101.0001', 'term': 'after'},\n",
              " {'count': 1,\n",
              "  'field': 'body',\n",
              "  'id': 'APW_ENG_20100101.0001',\n",
              "  'term': 'agenda'},\n",
              " {'count': 1,\n",
              "  'field': 'body',\n",
              "  'id': 'APW_ENG_20100101.0001',\n",
              "  'term': 'agreed'}]"
            ]
          },
          "metadata": {},
          "execution_count": 6
        }
      ]
    },
    {
      "cell_type": "markdown",
      "metadata": {
        "id": "q-CjFLXH3BJg"
      },
      "source": [
        "Each record has four fields:\n",
        "* `id`, with the identifier for the document;\n",
        "* `field`, with the region of the document containing a given term;\n",
        "* `term`, with the lower-cased term; and\n",
        "* `count`, with the number of times each term occurred in that field and document."
      ]
    },
    {
      "cell_type": "markdown",
      "metadata": {
        "id": "2H5yBvEVNUPr"
      },
      "source": [
        "## Computing Term Statistics\n"
      ]
    },
    {
      "cell_type": "markdown",
      "metadata": {
        "id": "qhDt23kKv0Uy"
      },
      "source": [
        "If we look at the most frequent terms for a given document, we mostly see common function words, such as `the`, `and`, and `of`. Start exploring the dataset by computing some of there basic term statistics. You can make your like easier using data frame libraries such as `pandas`, core python libraries such as `collections`, or just simple list comprehensions.\n",
        "\n",
        "Feel free to define helper functions in your code before computing the statistics we're looking for."
      ]
    },
    {
      "cell_type": "code",
      "metadata": {
        "id": "2Zy5qR562nZ5",
        "colab": {
          "base_uri": "https://localhost:8080/"
        },
        "outputId": "75610c08-b777-4e4f-e683-bc1a19d4e36a"
      },
      "source": [
        "# TODO: Print the 6 terms from document APW_ENG_20100101.0001 with the highest count.\n",
        "\n",
        "import pandas as pd\n",
        "df = pd.DataFrame(terms) #converting list of dictionaries into a panda data frame\n",
        "df_s = df.groupby(['term','id'], as_index = False).agg({'count': 'sum'}) #second dataframe that has a total count for each word in each document (for words that\n",
        "#appear in the title as well as the body in a document, count will now store the total count)\n",
        "\n",
        "df_1 = df_s[df_s['id'] == \"APW_ENG_20100101.0001\"] #create new dataframe df_1 containing records from document ID APW_ENG_20100101.0001\n",
        "df_2 = df_1.sort_values(by='count', ascending=False).reset_index() #sort the df_1 with count in decreasing order and store result in df_2\n",
        "print(df_2[[\"term\", \"count\"]].head(6)) #return the first 6 entrees"
      ],
      "execution_count": null,
      "outputs": [
        {
          "output_type": "stream",
          "name": "stdout",
          "text": [
            "     term  count\n",
            "0       a     16\n",
            "1     the     11\n",
            "2      to     10\n",
            "3  brooks     10\n",
            "4      of     10\n",
            "5     and     10\n"
          ]
        }
      ]
    },
    {
      "cell_type": "code",
      "metadata": {
        "id": "z7BvW8NR2ynC",
        "colab": {
          "base_uri": "https://localhost:8080/"
        },
        "outputId": "83d6f66c-fe43-4300-88b6-41dd8263b066"
      },
      "source": [
        "# TODO: Print the 6 terms from document APW_ENG_20100102.0077 with the highest count.\n",
        "df_1 = df_s[df_s['id'] == \"APW_ENG_20100102.0077\"] #create new dataframe df_1 containing records from document ID APW_ENG_20100102.0077\n",
        "df_2 = df_1.sort_values(by='count', ascending=False).reset_index() #sort the df_1 with count in decreasing order and store result in df_2\n",
        "print(df_2[[\"term\", \"count\"]].head(6)) #return the first 6 entrees"
      ],
      "execution_count": null,
      "outputs": [
        {
          "output_type": "stream",
          "name": "stdout",
          "text": [
            "  term  count\n",
            "0  the     50\n",
            "1   to     22\n",
            "2   in     21\n",
            "3  and     19\n",
            "4    a     14\n",
            "5   of     14\n"
          ]
        }
      ]
    },
    {
      "cell_type": "code",
      "metadata": {
        "id": "U7OwCo0w5R1q",
        "colab": {
          "base_uri": "https://localhost:8080/"
        },
        "outputId": "5188ea06-3140-4a75-e02e-c99fe217e3dd"
      },
      "source": [
        "# TODO: Print the 6 terms with the highest total count in the corpus.\n",
        "df_1 = df_s.groupby('term').sum() #grouping the terms and then summing the count\n",
        "df_2 = df_1.sort_values(by='count', ascending=False).reset_index() #putting counts in decreasing order\n",
        "print(df_2.head(6)) #extracting first 6 entrees\n"
      ],
      "execution_count": null,
      "outputs": [
        {
          "output_type": "stream",
          "name": "stdout",
          "text": [
            "  term  count\n",
            "0  the  62216\n",
            "1   to  26931\n",
            "2   in  25659\n",
            "3    a  23383\n",
            "4   of  22326\n",
            "5  and  22125\n"
          ]
        }
      ]
    },
    {
      "cell_type": "markdown",
      "metadata": {
        "id": "dnNEUACW23Dd"
      },
      "source": [
        "Raw counts may not be the most informative statistic. One common improvement is to use *inverse document frequency*, the inverse of the proportion of documents that contain a given term."
      ]
    },
    {
      "cell_type": "code",
      "metadata": {
        "id": "uiUA502P2QkH",
        "colab": {
          "base_uri": "https://localhost:8080/"
        },
        "outputId": "a9274c57-9738-4b75-b1a5-c6bfc60e6b24"
      },
      "source": [
        "# TODO: Compute the number of distinct documents in the collection.\n",
        "N = len(pd.unique(df_s['id']))\n",
        "print(\"No.of distinct documents in the collection is :\", \n",
        "      N)\n",
        "\n",
        "# TODO: Compute the number of distinct documents each term appears in\n",
        "# and store in a dictionary.\n",
        "df_ = dict()\n",
        "df_1 = df_s.groupby('term').count() #group by the term and count the document IDs for each term\n",
        "for index, row in df_1.iterrows(): #creates dictionary containing a count of distinct documents each term appears in \n",
        "  df_[row.name] = row.id\n",
        "\n",
        "#sample outputs:\n",
        "print(\"No. of distinct documents that contain 'a': \" + str(df_['a'])) #just for you to see that the dictionary has been created\n",
        "print(\"No. of distinct documents that contain 'the': \" + str(df_['the']))"
      ],
      "execution_count": null,
      "outputs": [
        {
          "output_type": "stream",
          "name": "stdout",
          "text": [
            "No.of distinct documents in the collection is : 2778\n",
            "No. of distinct documents that contain 'a': 2571\n",
            "No. of distinct documents that contain 'the': 2696\n"
          ]
        }
      ]
    },
    {
      "cell_type": "code",
      "metadata": {
        "id": "_XMPAKYNCq6Y",
        "colab": {
          "base_uri": "https://localhost:8080/"
        },
        "outputId": "ef65033c-859f-4847-945c-60bda4860f79"
      },
      "source": [
        "# TODO: Print the relative document frequency of 'the',\n",
        "# i.e., the proportion of documents that contain 'the'.\n",
        "print((df_['the'])/N) #number of distinct documents \"the\" appears in divided by the total number of documents"
      ],
      "execution_count": null,
      "outputs": [
        {
          "output_type": "stream",
          "name": "stdout",
          "text": [
            "0.9704823614110871\n"
          ]
        }
      ]
    },
    {
      "cell_type": "markdown",
      "metadata": {
        "id": "ohFmwtc7Chy3"
      },
      "source": [
        "Empricially, we usually see better retrieval results if we rescale term frequency (within documents) and inverse document frequency (across documents) with the log function. Let the `tfidf` of term _t_ in document _d_ be:\n",
        "```\n",
        "tfidf(t, d) = log(count(t, d) + 1) * log(N / df(t))\n",
        "```\n",
        "\n",
        "Later in the course, we will show a probabilistic derivation of this quantity based on smoothing language models."
      ]
    },
    {
      "cell_type": "code",
      "metadata": {
        "id": "Fmyj4v_uHdyo",
        "colab": {
          "base_uri": "https://localhost:8080/"
        },
        "outputId": "48031c35-e765-4703-82fd-bf3dc7f5c52d"
      },
      "source": [
        "# TODO: Compute the tf-idf value for each term in each document.\n",
        "# Take the raw term data and add a tfidf field to each record.\n",
        "import math\n",
        "tfidf_terms = None\n",
        "list_ = []\n",
        "for index,row in df_s.iterrows():\n",
        "  tf = math.log(row[2] +1)\n",
        "  idf = math.log(N/df_[row[0]])\n",
        "  list_.append(tf*idf)\n",
        "df_s['tf-idf'] = list_ \n",
        "print(df_s)"
      ],
      "execution_count": null,
      "outputs": [
        {
          "output_type": "stream",
          "name": "stdout",
          "text": [
            "           term                     id  count    tf-idf\n",
            "0             a  APW_ENG_20100101.0001     16  0.219394\n",
            "1             a  APW_ENG_20100102.0001     26  0.255217\n",
            "2             a  APW_ENG_20100102.0002     27  0.258034\n",
            "3             a  APW_ENG_20100102.0003     19  0.231978\n",
            "4             a  APW_ENG_20100102.0005      4  0.124629\n",
            "...         ...                    ...    ...       ...\n",
            "524173   zverev  APW_ENG_20100105.0509      1  3.773895\n",
            "524174   zverev  APW_ENG_20100105.0549      1  3.773895\n",
            "524175  zvornik  APW_ENG_20100103.0487      1  5.496301\n",
            "524176   zwolle  APW_ENG_20100106.0803      2  7.949931\n",
            "524177   zwolle  APW_ENG_20100106.0878      2  7.949931\n",
            "\n",
            "[524178 rows x 4 columns]\n"
          ]
        }
      ]
    },
    {
      "cell_type": "code",
      "metadata": {
        "id": "NlXQmMO9HxH0",
        "colab": {
          "base_uri": "https://localhost:8080/"
        },
        "outputId": "0c07eafb-6dd3-4d38-c894-902da5bcf065"
      },
      "source": [
        "# TODO: Print the 20 records with the highest tf-idf values.\n",
        "df_1 = df_s.sort_values(by='tf-idf', ascending=False).reset_index()\n",
        "print(df_1[[\"term\", 'tf-idf']].head(20)) #20 records with highest tf-idf values "
      ],
      "execution_count": null,
      "outputs": [
        {
          "output_type": "stream",
          "name": "stdout",
          "text": [
            "           term     tf-idf\n",
            "0       guarani  23.292878\n",
            "1    nomination  22.519372\n",
            "2     greyhound  21.985205\n",
            "3       methane  21.985205\n",
            "4        kheire  21.473448\n",
            "5   shakespeare  21.306960\n",
            "6         guild  20.667543\n",
            "7   shakespeare  20.502093\n",
            "8         magna  20.338731\n",
            "9       elkhart  20.338731\n",
            "10       sutton  20.225285\n",
            "11        tohti  19.704034\n",
            "12       minhas  19.704034\n",
            "13   greyhounds  19.704034\n",
            "14        krewe  19.704034\n",
            "15      shiites  19.704034\n",
            "16         punk  19.596370\n",
            "17     netbooks  19.353324\n",
            "18     netbooks  19.353324\n",
            "19       golden  19.302647\n"
          ]
        }
      ]
    },
    {
      "cell_type": "markdown",
      "metadata": {
        "id": "f61xitl1IApl"
      },
      "source": [
        "## Plotting Term Distributions\n",
        "\n",
        "Besides frequencies and tf-idf values within documents, it is often helpful to look at the distrubitions of word frequencies in the whole collection. In class, we talk about the Zipf distribution of word rank versus frequency and Heaps' Law relating the number of distinct words to the number of tokens.\n",
        "\n",
        "We might examine these distributions to see, for instance, if an unexpectedly large number of very rare terms occurs, which might indicate noise added to our data."
      ]
    },
    {
      "cell_type": "code",
      "metadata": {
        "id": "fsM5k1_5Jj7Y",
        "colab": {
          "base_uri": "https://localhost:8080/"
        },
        "outputId": "e7a2c0ee-63df-45a4-b2c4-59122ed500cc"
      },
      "source": [
        "# TODO: Compute a list of the distinct words in this collection and sort it in descending order of frequency.\n",
        "# Thus frequency[0] should contain the word \"the\" and the count 62216.\n",
        "df_1 = df_s.groupby('term').sum()\n",
        "df_2 = df_1.sort_values(by='count', ascending=False)\n",
        "terms_ = df_2.index.tolist() #contains the terms in decreasing order of their counts\n",
        "frequency = df_2['count'].tolist() #contains the counts of the words in the previous list (in order)\n",
        "print(terms_[:10]) #just printing the first 10 items for you to see\n",
        "print(frequency[:10]) #just printing the first 10 items for you to see"
      ],
      "execution_count": null,
      "outputs": [
        {
          "output_type": "stream",
          "name": "stdout",
          "text": [
            "['the', 'to', 'in', 'a', 'of', 'and', 'said', 'for', 'on', 'that']\n",
            "[62216, 26931, 25659, 23383, 22326, 22125, 10888, 9716, 9382, 8942]\n"
          ]
        }
      ]
    },
    {
      "cell_type": "code",
      "metadata": {
        "id": "hdtc14EULkxS",
        "colab": {
          "base_uri": "https://localhost:8080/",
          "height": 295
        },
        "outputId": "7d0e632c-8ceb-422d-b449-c0497908c876"
      },
      "source": [
        "# TODO: Plot a graph of the log of the rank (starting at 1) on the x-axis,\n",
        "# against the log of the frequency on the y-axis. You may use the matplotlib\n",
        "# or other library.\n",
        "import matplotlib.pyplot as plt\n",
        "\n",
        "rank = [item for item in range(1, len(terms_)+1)] #creates a list of ranks equivalent to size of the terms_ list\n",
        "rank =  [math.log(x) for x in rank] #gets the log of rank\n",
        "frequency_ =  [math.log(x) for x in frequency] #gets the log of frequency\n",
        "\n",
        "plt.plot(rank,frequency_, linewidth=2, color='r')\n",
        "plt.xlabel(\"Log of Rank\")\n",
        "plt.ylabel(\"Log of Frequency\")\n",
        "plt.title(\"Zipf's law graph for newswire collection\")\n",
        "plt.show()\n",
        "\n"
      ],
      "execution_count": null,
      "outputs": [
        {
          "output_type": "display_data",
          "data": {
            "image/png": "[encoded data removed]",
            "text/plain": [
              "<Figure size 432x288 with 1 Axes>"
            ]
          },
          "metadata": {
            "needs_background": "light"
          }
        }
      ]
    },
    {
      "cell_type": "markdown",
      "metadata": {
        "id": "GdiUXaXZMFqT"
      },
      "source": [
        "## Acquiring New Documents (for CS6200)\n",
        "\n",
        "For this assignment so far, you've worked with data that's already been extracted, tokenized, and counted. In this final section, you'll briefly explore acquiring new data.\n",
        "\n",
        "Find a collection of documents that you're interested in. For the statistics to be meaningful, this collection should have at least 1,000 words.\n",
        "\n",
        "The format could be anything you can extract text from: HTML, PDF, MS PowerPoint, chat logs, etc.\n",
        "\n",
        "The collection should be in a natural language, not mostly code or numerical data. It could be in English or in any other language.\n",
        "\n",
        "The final project for this course will involve designing an information retrieval task on some dataset. You could use this exercise to think about what kind of data you might be interested in, although that is not required."
      ]
    },
    {
      "cell_type": "markdown",
      "metadata": {
        "id": "EGPVnXv2O6AN"
      },
      "source": [
        "**TODO**: Write code to download and extract the text from the collection. Describe choices you make about what contents to keep."
      ]
    },
    {
      "cell_type": "code",
      "metadata": {
        "id": "VeDDz1SaPLik",
        "colab": {
          "base_uri": "https://localhost:8080/"
        },
        "outputId": "37c1c103-4011-43ce-fb7c-9be21070f250"
      },
      "source": [
        "# TODO: Data acquisition code here.\n",
        "import requests \n",
        "from bs4 import BeautifulSoup #python ibrary for web scraping\n",
        "\n",
        "#I have acquired 3 documents from web links (html). The content of these documents is centered around music.\n",
        "# Below I extract the text in each html document using the BeautifulSoup python library.\n",
        "#i extract text from the title as well as the body of each document\n",
        "# The texts content is mainly returned as full sentences so I will be doing a lot of breaking down and\n",
        "#clean up in the tokenzing step in which I will also be removing empty strings, hyperlinks, and numbers. \n",
        "\n",
        "def data_acquisition(link):\n",
        "  URL = link \n",
        "  r = requests.get(URL) \n",
        "  soup = BeautifulSoup(r.content, 'html5lib') #extracts html from link\n",
        "  tag = soup.body #gets the body of the document\n",
        "  list_of_words_body = []\n",
        "  # loop finds all the text in the body tag \n",
        "  for string in tag.strings:\n",
        "      list_of_words_body.append(string) #stores all the texts found in the body in a list\n",
        "  tag = soup.title #gets the title of the document\n",
        "  # loop finds all the text in the title tag\n",
        "  list_of_words_title = []\n",
        "  for string in tag.strings:\n",
        "      list_of_words_title.append(string) #stores all the texts found in the title in a list\n",
        "  return list_of_words_title, list_of_words_body[20:] #returns list of text in title and list of text in body for each document\n",
        "\n",
        "docAtitle, docA_body = data_acquisition(\"https://pitchfork.com/reviews/albums/jose-gonzalez-local-valley/\")\n",
        "docBtitle, docB_body = data_acquisition(\"https://pitchfork.com/reviews/albums/sufjan-stevens-angelo-de-augustine-a-beginners-mind/\")\n",
        "docCtitle, docC_body = data_acquisition(\"https://pitchfork.com/reviews/albums/andy-shauf-wilds/\")\n",
        "\n",
        "#lists containing text in each document\n",
        "print(docAtitle, docA_body[:10]) #just printing the first 10 items for you to see\n",
        "print(docBtitle, docB_body[:10])\n",
        "print(docCtitle, docC_body[:10])\n",
        "\n"
      ],
      "execution_count": null,
      "outputs": [
        {
          "output_type": "stream",
          "name": "stdout",
          "text": [
            "['José González: Local Valley Album Review | Pitchfork'] ['Over/Under', 'Liner Notes', 'Under the Influences', 'On the Records', 'Critical Breakthroughs', 'Newsletter', 'Advertising', 'Masthead', 'Careers', 'Contact']\n",
            "['Sufjan Stevens / Angelo De Augustine: A Beginner’s Mind Album Review | Pitchfork'] ['Over/Under', 'Liner Notes', 'Under the Influences', 'On the Records', 'Critical Breakthroughs', 'Newsletter', 'Advertising', 'Masthead', 'Careers', 'Contact']\n",
            "['Andy Shauf: Wilds Album Review | Pitchfork'] ['Over/Under', 'Liner Notes', 'Under the Influences', 'On the Records', 'Critical Breakthroughs', 'Newsletter', 'Advertising', 'Masthead', 'Careers', 'Contact']\n"
          ]
        }
      ]
    },
    {
      "cell_type": "markdown",
      "metadata": {
        "id": "L1-oRTixPKbw"
      },
      "source": [
        "**TODO**: Write code to tokenize the text and count the resulting terms in each document. Describe your tokenization approach here.\n",
        "\n",
        "Each term may also be associated with a field, such as `body` and `title` in the newswire collection above. Describe the different fields in your data."
      ]
    },
    {
      "cell_type": "code",
      "metadata": {
        "id": "Ydsh0h74Pnlh",
        "colab": {
          "base_uri": "https://localhost:8080/"
        },
        "outputId": "8a38134e-362a-432d-9c37-9fd03b2839c7"
      },
      "source": [
        "# TODO: Tokenization code here.\n",
        "\n",
        "#the tokenzing function breaks the sentences (acquired form the previous step)\n",
        "#into words and cleans up the data. It takes a list as input and removes whitespaces,\n",
        "#removes any non-alphabets such as commas, question marks, full stops, brackets etc around words.\n",
        "#it also removes number and hyperlinks. And lastly, it converts all the words into lowercase\n",
        "\n",
        "#the create_count fnction takes a list of words and converts it into a list of dictionaries\n",
        "#where each dictionary contain count of each term (same format as sample data). Each dictionary \n",
        "#contains the term, count, document name and word position in \n",
        "#document (different word positions (fields) in the dictionaries are body and title). \n",
        "\n",
        "def create_count(new_list, doc_name,position):\n",
        "  #term_count will be a list of dictionarie where each dictionary will contain count for each term in each document.\n",
        "  term_count = [] \n",
        "  words_so_far = []\n",
        "  for i, val in enumerate(new_list):\n",
        "    if val not in words_so_far :\n",
        "      #create dicitonary for each word (in each document in each position) with an intial count 1\n",
        "      term_count.append({'count': 1, 'field': position, 'id': doc_name, 'term': val})\n",
        "      words_so_far.append(val)\n",
        "    else:\n",
        "      a = words_so_far.index(val)\n",
        "      val_found = term_count[a]\n",
        "      val_found['count'] = val_found['count'] + 1 #adds 1 to count for term each time it comes accross a word that it already in dict\n",
        "  return term_count\n",
        "\n",
        "def tokenizing(doc, doc_name, position):\n",
        "  list_of_words_body_ = []\n",
        "  for i,val in enumerate(doc):\n",
        "    list_of_words_body_.append(val.strip()) #removes white spaces around words\n",
        "  for i,val in enumerate(list_of_words_body_):\n",
        "    if (val == ''):\n",
        "      list_of_words_body_.remove(val)\n",
        "    elif (val[0].isalpha() == False): #removes everything that does not start with a letter \n",
        "      list_of_words_body_.remove(val) \n",
        "  new_list = []\n",
        "  for i,val in enumerate(list_of_words_body_):\n",
        "      temp = val.split(\" \")\n",
        "      for j in temp:\n",
        "        #below removes empty strings, numbers and hyeperlinks from the content to keep.\n",
        "        if j == \"\" or j == '' or j.isnumeric() == True or j[0:4] == \"https\":\n",
        "          break\n",
        "        #removes things like commas, question marks and full stops etc from each word \n",
        "        if j[0].isalpha() == False:\n",
        "          j = j[1:]\n",
        "        elif j[-1].isalpha() == False:\n",
        "          j = j[:-1]\n",
        "        if len(j) != 0:\n",
        "          new_list.append(j.lower()) #converts each word to lower case\n",
        "  return create_count(new_list,doc_name,position)\n",
        "\n",
        "term_count_1 = tokenizing(docA_body, \"documentA\",\"body\")\n",
        "term_count_1_title = tokenizing(docAtitle, \"documentA\",\"title\")\n",
        "term_count_2 = tokenizing(docB_body, \"documentB\", \"body\")\n",
        "term_count_2_title = tokenizing(docBtitle, \"documentB\",\"title\")\n",
        "term_count_3 = tokenizing(docC_body, \"documentC\",\"body\")\n",
        "term_count_3_title = tokenizing(docCtitle, \"documentC\",\"title\")\n",
        "#lastly we merge all the lists from different documents into one. \n",
        "term_count = term_count_1 + term_count_1_title + term_count_2 + term_count_2_title + term_count_3 + term_count_3_title\n",
        "df = pd.DataFrame(term_count) #contains word counts from all 3 documents\n",
        "print(df)"
      ],
      "execution_count": null,
      "outputs": [
        {
          "output_type": "stream",
          "name": "stdout",
          "text": [
            "      count  field         id        term\n",
            "0         1   body  documentA  over/under\n",
            "1         1   body  documentA       liner\n",
            "2         1   body  documentA       notes\n",
            "3         1   body  documentA       under\n",
            "4        43   body  documentA         the\n",
            "...     ...    ...        ...         ...\n",
            "1705      1  title  documentC       shauf\n",
            "1706      1  title  documentC       wilds\n",
            "1707      1  title  documentC       album\n",
            "1708      1  title  documentC      review\n",
            "1709      1  title  documentC   pitchfork\n",
            "\n",
            "[1710 rows x 4 columns]\n"
          ]
        }
      ]
    },
    {
      "cell_type": "markdown",
      "metadata": {
        "id": "D-boFCotQ4Ur"
      },
      "source": [
        "**TODO**: Plot a graph of the log rank against log frequency for your collection, as you did for the sample collection above. What do you observe about the differences between the distributions in these two collections?"
      ]
    },
    {
      "cell_type": "code",
      "metadata": {
        "colab": {
          "base_uri": "https://localhost:8080/",
          "height": 295
        },
        "id": "llawpVDALip2",
        "outputId": "4d4bc8e4-aa15-4380-ebc4-f7addc6359f1"
      },
      "source": [
        "df_1 = df.groupby('term').sum()\n",
        "df_2 = df_1.sort_values(by='count', ascending=False)\n",
        "terms_ = df_2.index.tolist() #contains the terms in decreasing order of their counts \n",
        "frequency = df_2['count'].tolist() #gets frequency of the terms in the above list (in order)\n",
        "\n",
        "import matplotlib.pyplot as plt\n",
        "\n",
        "rank = [item for item in range(1, len(terms_)+1)] #creates a list of ranks equivalent to size of the terms_ list\n",
        "rank =  [math.log(x) for x in rank] #gets the log of rank\n",
        "frequency_ =  [math.log(x) for x in frequency] #gets the log of frequency\n",
        "\n",
        "plt.plot(rank,frequency_, linewidth=2, color='r')\n",
        "plt.xlabel(\"Log of Rank\")\n",
        "plt.ylabel(\"Log of Frequency\")\n",
        "plt.title(\"Zipf's law graph for newswire collection\")\n",
        "plt.show()\n",
        "\n",
        "#the distribution for both the sample collection and my collection are of the same pattern\n",
        "#in terms of log frequecy decreasing as the rank increases. \n",
        "#the sample collection's graph is smoother while mine is slightly bumpier. \n",
        "\n",
        "#done!"
      ],
      "execution_count": null,
      "outputs": [
        {
          "output_type": "display_data",
          "data": {
            "image/png": "[encoded data removed]",
            "text/plain": [
              "<Figure size 432x288 with 1 Axes>"
            ]
          },
          "metadata": {
            "needs_background": "light"
          }
        }
      ]
    }
  ]
}